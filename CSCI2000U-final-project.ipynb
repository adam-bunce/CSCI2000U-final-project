{
 "cells": [
  {
   "cell_type": "markdown",
   "id": "a69bde9a",
   "metadata": {},
   "source": [
    "# Project Group 13\n"
   ]
  },
  {
   "cell_type": "markdown",
   "id": "f0011036",
   "metadata": {},
   "source": [
    "## Introduction\n",
    "\n",
    "\n",
    "We initially chose a different data set but we were reccomened to select another as the data was ficticious and there were only 8 columns of data. We found this data set which is very similar to the one we initally selected but it is real data and there are 33 columns.\n",
    "\n",
    "We were interested in this type of dataset, student preformance, as it seemed very topical as we are students and were interested to learn about the ways specific things may be influencing our academic preformance.\n",
    "\n",
    "\n",
    "| Adam Bunce | Addison Tung  | Santhosh Chelvaranjan |\n",
    "| :- | -: | :-: |\n",
    "| Set Up Notebook | contrib | contrib\n",
    "| contrib | contrib | contrib\n",
    "| contrib | contrib | contrib\n",
    "| contrib | contrib | contrib\n"
   ]
  },
  {
   "cell_type": "markdown",
   "id": "c4120165",
   "metadata": {},
   "source": [
    "## Description Of Data\n",
    "\n",
    "Our Data consists of 395 secondary student's scores in math and portuguese language courses obtained through a survey. Along with this we are given information about the student's; age, sex, internet access, drinking habits, family situation, study habits and much more.\n",
    "\n",
    "\n",
    "**Dataset Name:** Student Alcohol Consumption, Social, gender and study data from secondary school students\n",
    "\n",
    "\n",
    "**Source:**       [Kaggle Dataset](https://www.kaggle.com/uciml/student-alcohol-consumption)\n"
   ]
  },
  {
   "cell_type": "markdown",
   "id": "68412407",
   "metadata": {},
   "source": [
    "## Analysis of Data\n",
    "Provide a detailed, well-organized description of data quality, including the features, any data that should be cleaned or pre-processed before you EDA.\n",
    "\n",
    "idk if we need to clean it but double check"
   ]
  },
  {
   "cell_type": "markdown",
   "id": "772b61cb",
   "metadata": {},
   "source": [
    "\n",
    "### Example Questions To Answer\n",
    "\n",
    "1. is there any correlation between x variable and performance in the subject?\n",
    "\n",
    "    G1 - first period grade (numeric: from 0 to 20) <br>\n",
    "    G2 - second period grade (numeric: from 0 to 20)<br>\n",
    "    G3 - final grade (numeric: from 0 to 20, output target)<br>\n",
    "    \n",
    "\n",
    "\n",
    "2. how do students with everything the same except one variable compare? (limit the variables to a few ~5 not all 33)\n",
    "\n",
    "3. is there any difference between the preformance of students with higher weekend vs workday alcohol consumption\n",
    "\n",
    "4. <b>add some more questions\n"
   ]
  },
  {
   "cell_type": "code",
   "execution_count": 13,
   "id": "ea2d3865",
   "metadata": {},
   "outputs": [],
   "source": [
    "import csv\n",
    "import re\n",
    "from functools import reduce\n",
    "import numpy as np\n",
    "import sys\n",
    "import pandas as pd\n",
    "# if someone wants to use searborn or one of the polotting libarys import it up here\n",
    "\n",
    "def get_data_math(file_name):\n",
    "    collection = []\n",
    "    with open(file_name, 'r') as f:\n",
    "        for line in csv.DictReader(f):\n",
    "            collection.append(line)\n",
    "        return collection\n",
    "        \n",
    "\n",
    "\n",
    "math_data = get_data_math('student-mat.csv')\n",
    "portugese_data = get_data_math('student-por.csv')"
   ]
  },
  {
   "cell_type": "code",
   "execution_count": 14,
   "id": "c0f11bec",
   "metadata": {},
   "outputs": [
    {
     "name": "stdout",
     "output_type": "stream",
     "text": [
      "['school', 'sex', 'age', 'address', 'famsize', 'Pstatus', 'Medu', 'Fedu', 'Mjob', 'Fjob', 'reason', 'guardian', 'traveltime', 'studytime', 'failures', 'schoolsup', 'famsup', 'paid', 'activities', 'nursery', 'higher', 'internet', 'romantic', 'famrel', 'freetime', 'goout', 'Dalc', 'Walc', 'health', 'absences', 'G1', 'G2', 'G3']\n"
     ]
    }
   ],
   "source": [
    "df_math = pd.DataFrame(math_data)\n",
    "df_por = pd.DataFrame(portugese_data)\n",
    "\n",
    "types_of_info = list(df_math.columns)\n",
    "print(types_of_info)"
   ]
  },
  {
   "cell_type": "code",
   "execution_count": null,
   "id": "d886ef01",
   "metadata": {},
   "outputs": [],
   "source": [
    "# empty"
   ]
  },
  {
   "cell_type": "code",
   "execution_count": null,
   "id": "921e4d96",
   "metadata": {},
   "outputs": [],
   "source": [
    "# empty"
   ]
  },
  {
   "cell_type": "markdown",
   "id": "80cfeaf8",
   "metadata": {},
   "source": [
    "## Exploratory Data Analysis\n",
    "Provide a detailed, well-organized description of your findings, including textual description, graphs, and code. Your focus should be on both the results and the process. Include, as reasonable and relevant, approaches that didn’t work, challenges, the data cleaning process, etc."
   ]
  },
  {
   "cell_type": "code",
   "execution_count": null,
   "id": "74c66f9f",
   "metadata": {},
   "outputs": [],
   "source": [
    "# nice graph right here"
   ]
  },
  {
   "cell_type": "code",
   "execution_count": null,
   "id": "675a8197",
   "metadata": {},
   "outputs": [],
   "source": [
    "# this cell was intenitionally left blank"
   ]
  },
  {
   "cell_type": "markdown",
   "id": "10b30bc1",
   "metadata": {},
   "source": [
    "## Potential Data Science\n",
    "Based on your data analysis and findings. Describe any potential ideas if you were to pursue a data science or machine learning project using this dataset. If you don’t find any potential, explain your rationale."
   ]
  },
  {
   "cell_type": "code",
   "execution_count": null,
   "id": "1858d02a",
   "metadata": {},
   "outputs": [],
   "source": [
    "# maybe student prediction modelling or smth"
   ]
  },
  {
   "cell_type": "markdown",
   "id": "7de3545e",
   "metadata": {},
   "source": [
    "## Conclusion\n",
    "Discuss limitations and future directions, lessons learned, maybe things you did not predict to find out or things you learned as you performed the analysis."
   ]
  },
  {
   "cell_type": "code",
   "execution_count": null,
   "id": "0eb0ea1e",
   "metadata": {},
   "outputs": [],
   "source": [
    "# change to markdown or nbconvert"
   ]
  }
 ],
 "metadata": {
  "kernelspec": {
   "display_name": "Python 3 (ipykernel)",
   "language": "python",
   "name": "python3"
  },
  "language_info": {
   "codemirror_mode": {
    "name": "ipython",
    "version": 3
   },
   "file_extension": ".py",
   "mimetype": "text/x-python",
   "name": "python",
   "nbconvert_exporter": "python",
   "pygments_lexer": "ipython3",
   "version": "3.8.12"
  }
 },
 "nbformat": 4,
 "nbformat_minor": 5
}
